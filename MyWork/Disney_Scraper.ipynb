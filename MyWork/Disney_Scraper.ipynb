{
 "cells": [
  {
   "cell_type": "markdown",
   "metadata": {},
   "source": [
    "### Loading the Libraries"
   ]
  },
  {
   "cell_type": "code",
   "execution_count": 1,
   "metadata": {},
   "outputs": [],
   "source": [
    "import requests\n",
    "from bs4 import BeautifulSoup as bs"
   ]
  },
  {
   "cell_type": "markdown",
   "metadata": {},
   "source": [
    "## TASKS"
   ]
  },
  {
   "cell_type": "markdown",
   "metadata": {},
   "source": [
    "#### Task 1: Scrape the infobox from Toy Story 3 wiki page and save it to a python dictionary "
   ]
  },
  {
   "cell_type": "code",
   "execution_count": 2,
   "metadata": {},
   "outputs": [],
   "source": [
    "url = \"https://en.wikipedia.org/wiki/Toy_Story_3\"\n",
    "req = requests.get(url)\n",
    "soup = bs(req.content)\n",
    "\n",
    "#soup.body"
   ]
  },
  {
   "cell_type": "markdown",
   "metadata": {},
   "source": [
    "##### MY WAY  :"
   ]
  },
  {
   "cell_type": "code",
   "execution_count": 3,
   "metadata": {},
   "outputs": [],
   "source": [
    "infobox = soup.find(\"table\", attrs={\"class\":\"infobox vevent\"})\n",
    "\n",
    "#infobox"
   ]
  },
  {
   "cell_type": "code",
   "execution_count": 7,
   "metadata": {},
   "outputs": [
    {
     "name": "stdout",
     "output_type": "stream",
     "text": [
      "{'Directed by': 'Lee Unkrich', 'Produced by': 'Darla K. Anderson', 'Screenplay by': 'Michael Arndt', 'Story by': ['John Lasseter', 'Andrew Stanton', 'Lee Unkrich'], 'Starring': ['Tom Hanks', 'Tim Allen', 'Joan Cusack', 'Don Rickles', 'Wallace Shawn', 'John Ratzenberger', 'Estelle Harris', 'Blake Clark', 'Jeff Pidgeon', 'Ned Beatty', 'Michael Keaton', 'Jodi Benson', 'John Morris'], 'Music by': 'Randy Newman', 'Cinematography': ['Jeremy Lasky', 'Kim White'], 'Edited by': 'Ken Schretzmann', 'Productioncompany ': ['Walt Disney Pictures', 'Pixar Animation Studios'], 'Distributed by': 'Walt Disney Studios Motion Pictures', 'Release date': ['June\\xa012,\\xa02010\\xa0(2010-06-12) (Taormina Film Fest)', 'June\\xa018,\\xa02010\\xa0(2010-06-18) (United States)'], 'Running time': '103 minutes', 'Country': 'United States', 'Language': 'English', 'Budget': '$200\\xa0million', 'Box office': '$1.067\\xa0billion'}\n"
     ]
    }
   ],
   "source": [
    "#infobox.select(\"tr\")[].find(\"th\").get_text()\n",
    "#infobox.select(\"tr\")[2:]\n",
    "\n",
    "infobox_dict ={}\n",
    "for i in range(2, 18):\n",
    "    key = infobox.select(\"tr\")[i].find(\"th\").get_text()\n",
    "    values = infobox.select(\"tr\")[i].select(\"td\")\n",
    "    \n",
    "    values_lst = []\n",
    "    for value in values:\n",
    "        value = value.get_text()\n",
    "        values_lst.append(value)\n",
    "        \n",
    "    if i in [5, 6, 8, 10, 12]:\n",
    "        values_lst = values_lst[0].split(\"\\n\")[1:-1]\n",
    "    elif i in [13,16,17]:\n",
    "        values_lst = values_lst[0][:-3]\n",
    "    else:\n",
    "        values_lst = values_lst[0]\n",
    "    \n",
    "    infobox_dict[key] = values_lst\n",
    "\n",
    "infobox_dict[\"Distributed by\"] = infobox_dict[\"Distributed by\"][:19] + \" \" + infobox_dict[\"Distributed by\"][19:]\n",
    "    \n",
    "print(infobox_dict)\n"
   ]
  },
  {
   "cell_type": "markdown",
   "metadata": {},
   "source": [
    "##### KEITH'S WAY :"
   ]
  },
  {
   "cell_type": "code",
   "execution_count": 9,
   "metadata": {},
   "outputs": [],
   "source": [
    "contents = soup.prettify()\n",
    "#print(contents)"
   ]
  },
  {
   "cell_type": "code",
   "execution_count": 16,
   "metadata": {},
   "outputs": [],
   "source": [
    "info_box = soup.find(class_ = \"infobox vevent\")\n",
    "info_rows = info_box.find_all(\"tr\")\n",
    "\n",
    "#for row in info_rows:\n",
    "    #print(row.prettify())\n"
   ]
  },
  {
   "cell_type": "code",
   "execution_count": 27,
   "metadata": {},
   "outputs": [
    {
     "data": {
      "text/plain": [
       "{'Title': 'Toy Story 3',\n",
       " 'Directed by': 'Lee Unkrich',\n",
       " 'Produced by': 'Darla K. Anderson',\n",
       " 'Screenplay by': 'Michael Arndt',\n",
       " 'Story by': ['John Lasseter', 'Andrew Stanton', 'Lee Unkrich'],\n",
       " 'Starring': ['Tom Hanks',\n",
       "  'Tim Allen',\n",
       "  'Joan Cusack',\n",
       "  'Don Rickles',\n",
       "  'Wallace Shawn',\n",
       "  'John Ratzenberger',\n",
       "  'Estelle Harris',\n",
       "  'Blake Clark',\n",
       "  'Jeff Pidgeon',\n",
       "  'Ned Beatty',\n",
       "  'Michael Keaton',\n",
       "  'Jodi Benson',\n",
       "  'John Morris'],\n",
       " 'Music by': 'Randy Newman',\n",
       " 'Cinematography': ['Jeremy Lasky', 'Kim White'],\n",
       " 'Edited by': 'Ken Schretzmann',\n",
       " 'Production company': ['Walt Disney Pictures', 'Pixar Animation Studios'],\n",
       " 'Distributed by': 'Walt Disney Studios Motion Pictures',\n",
       " 'Release date': ['June 12, 2010 ( 2010-06-12 ) ( Taormina Film Fest )',\n",
       "  'June 18, 2010 ( 2010-06-18 ) (United States)'],\n",
       " 'Running time': '103 minutes [1]',\n",
       " 'Country': 'United States',\n",
       " 'Language': 'English',\n",
       " 'Budget': '$200 million [1]',\n",
       " 'Box office': '$1.067 billion [1]'}"
      ]
     },
     "execution_count": 27,
     "metadata": {},
     "output_type": "execute_result"
    }
   ],
   "source": [
    "def get_content_value(row_data):\n",
    "    if row_data.find(\"li\"):\n",
    "        return [li.get_text(\" \", strip=True).replace(\"\\xa0\", \" \") for li in row_data.find_all(\"li\")]\n",
    "    else:\n",
    "        return row_data.get_text(\" \", strip=True).replace(\"\\xa0\", \" \")\n",
    "\n",
    "movie_info = {}\n",
    "\n",
    "for index,row in enumerate(info_rows):\n",
    "    if index == 0:\n",
    "        movie_info[\"Title\"] = row.find(\"th\").get_text()\n",
    "    elif index == 1:\n",
    "        continue\n",
    "    else:\n",
    "        content_key = row.find(\"th\").get_text(\" \", strip=True)\n",
    "        content_value = get_content_value(row.find(\"td\"))\n",
    "        movie_info[content_key] = content_value\n",
    "               \n",
    "movie_info    "
   ]
  },
  {
   "cell_type": "markdown",
   "metadata": {},
   "source": [
    "#### Task 2: Scrape infobox for all movies in List of Disney Films (save as list of dictionaries)"
   ]
  },
  {
   "cell_type": "code",
   "execution_count": 48,
   "metadata": {},
   "outputs": [],
   "source": [
    "main_url = \"https://en.wikipedia.org\"\n",
    "url = \"/wiki/List_of_Walt_Disney_Pictures_films\"\n",
    "req = requests.get(main_url + url)\n",
    "soup = bs(req.content)"
   ]
  },
  {
   "cell_type": "code",
   "execution_count": 57,
   "metadata": {},
   "outputs": [
    {
     "data": {
      "text/plain": [
       "'/wiki/Snow_White_and_the_Seven_Dwarfs_(1937_film)'"
      ]
     },
     "execution_count": 57,
     "metadata": {},
     "output_type": "execute_result"
    }
   ],
   "source": [
    "#print(soup.prettify())\n",
    "table = soup.select(\"td a\")\n",
    "test_url = table[5][\"href\"]\n",
    "\n",
    "test_url"
   ]
  },
  {
   "cell_type": "code",
   "execution_count": 52,
   "metadata": {},
   "outputs": [],
   "source": [
    "def get_content_value(row_data):\n",
    "    if row_data.find(\"li\"):\n",
    "        return [li.get_text(\" \", strip=True).replace(\"\\xa0\", \" \") for li in row_data.find_all(\"li\")]\n",
    "    else:\n",
    "        return row_data.get_text(\" \", strip=True).replace(\"\\xa0\", \" \")\n"
   ]
  },
  {
   "cell_type": "code",
   "execution_count": 62,
   "metadata": {},
   "outputs": [],
   "source": [
    "def get_infobox(url):\n",
    "    main_url = \"https://en.wikipedia.org\"\n",
    "    req2 = requests.get(main_url + url)\n",
    "    webpage = bs(req2.content)\n",
    "\n",
    "    info_box = webpage.find(class_ = \"infobox vevent\")\n",
    "    info_rows = info_box.find_all(\"tr\")\n",
    "\n",
    "\n",
    "    movie_info = {}\n",
    "\n",
    "    for index,row in enumerate(info_rows):\n",
    "        if index == 0:\n",
    "            movie_info[\"Title\"] = row.find(\"th\").get_text()\n",
    "        elif index == 1:\n",
    "            continue\n",
    "        else:\n",
    "            content_key = row.find(\"th\").get_text(\" \", strip=True)\n",
    "            content_value = get_content_value(row.find(\"td\"))\n",
    "            movie_info[content_key] = content_value\n",
    "            \n",
    "    return movie_info    \n",
    "\n",
    "#get_infobox('/wiki/Snow_White_and_the_Seven_Dwarfs_(1937_film)')"
   ]
  },
  {
   "cell_type": "code",
   "execution_count": 80,
   "metadata": {},
   "outputs": [
    {
     "data": {
      "text/plain": [
       "738"
      ]
     },
     "execution_count": 80,
     "metadata": {},
     "output_type": "execute_result"
    }
   ],
   "source": [
    "url_lst = []\n",
    "for tag in table[4:-37]:\n",
    "    link = tag[\"href\"]\n",
    "    #print(link)\n",
    "    if link.startswith(\"/wiki\") :\n",
    "        #print(link)\n",
    "        url_lst.append(link)\n",
    "\n",
    "#len(url_lst)        "
   ]
  },
  {
   "cell_type": "code",
   "execution_count": 111,
   "metadata": {},
   "outputs": [],
   "source": [
    "#movies_infobox_lst = []\n",
    "\n",
    "#urls = []"
   ]
  },
  {
   "cell_type": "code",
   "execution_count": 123,
   "metadata": {},
   "outputs": [
    {
     "name": "stdout",
     "output_type": "stream",
     "text": [
      "0 /wiki/Dolphin_Reef_(film)\n",
      "1 /wiki/Disneynature\n",
      "--- skipping this ---\n",
      "2 /wiki/Elephant_(2020_film)\n",
      "3 /wiki/Disneynature\n",
      "--- skipping this ---\n",
      "4 /wiki/Artemis_Fowl_(film)\n",
      "5 /wiki/TriBeCa_Productions\n",
      "--- skipping this ---\n",
      "6 /wiki/Hamilton_(2020_film)\n",
      "7 /wiki/Lin-Manuel_Miranda\n",
      "--- skipping this ---\n",
      "8 /wiki/Thomas_Kail\n",
      "--- skipping this ---\n",
      "9 /wiki/RadicalMedia\n",
      "--- skipping this ---\n",
      "10 /wiki/Black_Is_King\n",
      "11 /wiki/Parkwood_Entertainment\n",
      "--- skipping this ---\n",
      "12 /wiki/Magic_Camp_(film)\n",
      "13 /wiki/The_One_and_Only_Ivan_(film)\n",
      "14 /wiki/Phineas_and_Ferb_the_Movie:_Candace_Against_the_Universe\n",
      "15 /wiki/Mulan_(2020_film)\n",
      "16 /wiki/Secret_Society_of_Second-Born_Royals\n",
      "17 /wiki/List_of_films_with_live_action_and_animation\n",
      "--- skipping this ---\n",
      "18 /wiki/Live_action\n",
      "--- skipping this ---\n",
      "19 /wiki/True-Life_Adventures#Films\n",
      "--- skipping this ---\n",
      "20 /wiki/Disneynature\n",
      "--- skipping this ---\n",
      "21 /wiki/Black_Beauty_(2020_film)\n",
      "22 /wiki/Constantin_Film\n",
      "--- skipping this ---\n",
      "23 /wiki/Soul_(2020_film)\n",
      "24 /wiki/Pixar\n",
      "--- skipping this ---\n",
      "25 /wiki/Raya_and_the_Last_Dragon\n",
      "26 /wiki/Walt_Disney_Animation_Studios\n",
      "--- skipping this ---\n",
      "27 /wiki/Cruella_(film)\n",
      "28 /wiki/Andrew_Gunn_(film_producer)\n",
      "--- skipping this ---\n",
      "29 /wiki/Marc_Platt_Productions\n",
      "--- skipping this ---\n",
      "30 /wiki/Pixar\n",
      "--- skipping this ---\n",
      "31 /wiki/Jungle_Cruise_(film)\n",
      "32 /wiki/Davis_Entertainment\n",
      "--- skipping this ---\n",
      "33 /wiki/Flynn_Picture_Company\n",
      "--- skipping this ---\n",
      "34 /wiki/Seven_Bucks_Productions\n",
      "--- skipping this ---\n",
      "35 /wiki/The_Beatles:_Get_Back\n",
      "36 /wiki/Apple_Corps\n",
      "--- skipping this ---\n",
      "37 /wiki/Wingnut_Films\n",
      "--- skipping this ---\n"
     ]
    }
   ],
   "source": [
    "urls = url_lst[700:]\n",
    "#urls\n",
    "\n",
    "\n",
    "for index,lnk in enumerate(urls):\n",
    "    print(index, lnk)\n",
    "    try:\n",
    "        tmp_dct = get_infobox(lnk)\n",
    "    except:\n",
    "        print(\"--- skipping this ---\")\n",
    "        continue\n",
    "    #print(index, lnk)\n",
    "    movies_infobox_lst.append(tmp_dct) "
   ]
  },
  {
   "cell_type": "code",
   "execution_count": 124,
   "metadata": {},
   "outputs": [
    {
     "data": {
      "text/plain": [
       "428"
      ]
     },
     "execution_count": 124,
     "metadata": {},
     "output_type": "execute_result"
    }
   ],
   "source": [
    "#movies_infobox_lst\n",
    "\n",
    "#len(movies_infobox_lst)"
   ]
  },
  {
   "cell_type": "code",
   "execution_count": 133,
   "metadata": {},
   "outputs": [],
   "source": [
    "# saving the list\n",
    "import json\n",
    "\n",
    "with open('./data/movies_infobox.txt', 'w') as fh:\n",
    "    fh.write(json.dumps(movies_infobox_lst, indent=4))"
   ]
  },
  {
   "cell_type": "code",
   "execution_count": 139,
   "metadata": {},
   "outputs": [
    {
     "name": "stdout",
     "output_type": "stream",
     "text": [
      "428\n"
     ]
    }
   ],
   "source": [
    "with open('./data/movies_infobox.txt', 'r') as fh:\n",
    "    #content = fh.read()\n",
    "    content = json.load(fh)\n",
    "    #print(content)\n",
    "    print(len(content))"
   ]
  }
 ],
 "metadata": {
  "kernelspec": {
   "display_name": "Python 3",
   "language": "python",
   "name": "python3"
  },
  "language_info": {
   "codemirror_mode": {
    "name": "ipython",
    "version": 3
   },
   "file_extension": ".py",
   "mimetype": "text/x-python",
   "name": "python",
   "nbconvert_exporter": "python",
   "pygments_lexer": "ipython3",
   "version": "3.8.6"
  }
 },
 "nbformat": 4,
 "nbformat_minor": 4
}
