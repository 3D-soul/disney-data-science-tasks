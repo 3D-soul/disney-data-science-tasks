{
 "cells": [
  {
   "cell_type": "markdown",
   "metadata": {},
   "source": [
    "### Loading the Libraries"
   ]
  },
  {
   "cell_type": "code",
   "execution_count": 4,
   "metadata": {},
   "outputs": [],
   "source": [
    "import requests\n",
    "from bs4 import BeautifulSoup as bs"
   ]
  },
  {
   "cell_type": "markdown",
   "metadata": {},
   "source": [
    "## TASKS"
   ]
  },
  {
   "cell_type": "markdown",
   "metadata": {},
   "source": [
    "#### Task 1: Scrape the infobox from Toy Story 3 wiki page and save it to a python dictionary "
   ]
  },
  {
   "cell_type": "code",
   "execution_count": 8,
   "metadata": {},
   "outputs": [],
   "source": [
    "url = \"https://en.wikipedia.org/wiki/Toy_Story_3\"\n",
    "req = requests.get(url)\n",
    "soup = bs(req.content)\n",
    "\n",
    "#soup.body"
   ]
  },
  {
   "cell_type": "code",
   "execution_count": 36,
   "metadata": {},
   "outputs": [],
   "source": [
    "infobox = soup.find(\"table\", attrs={\"class\":\"infobox vevent\"})\n",
    "\n",
    "#infobox"
   ]
  },
  {
   "cell_type": "code",
   "execution_count": 158,
   "metadata": {},
   "outputs": [
    {
     "name": "stdout",
     "output_type": "stream",
     "text": [
      "{'Directed by': 'Lee Unkrich', 'Produced by': 'Darla K. Anderson', 'Screenplay by': 'Michael Arndt', 'Story by': ['John Lasseter', 'Andrew Stanton', 'Lee Unkrich'], 'Starring': ['Tom Hanks', 'Tim Allen', 'Joan Cusack', 'Don Rickles', 'Wallace Shawn', 'John Ratzenberger', 'Estelle Harris', 'Blake Clark', 'Jeff Pidgeon', 'Ned Beatty', 'Michael Keaton', 'Jodi Benson', 'John Morris'], 'Music by': 'Randy Newman', 'Cinematography': ['Jeremy Lasky', 'Kim White'], 'Edited by': 'Ken Schretzmann', 'Productioncompany ': ['Walt Disney Pictures', 'Pixar Animation Studios'], 'Distributed by': 'Walt Disney Studios Motion Pictures', 'Release date': ['June\\xa012,\\xa02010\\xa0(2010-06-12) (Taormina Film Fest)', 'June\\xa018,\\xa02010\\xa0(2010-06-18) (United States)'], 'Running time': '103 minutes', 'Country': 'United States', 'Language': 'English', 'Budget': '$200\\xa0million', 'Box office': '$1.067\\xa0billion'}\n"
     ]
    }
   ],
   "source": [
    "#infobox.select(\"tr\")[].find(\"th\").get_text()\n",
    "#infobox.select(\"tr\")[2:]\n",
    "\n",
    "infobox_dict ={}\n",
    "for i in range(2, 18):\n",
    "    key = infobox.select(\"tr\")[i].find(\"th\").get_text()\n",
    "    values = infobox.select(\"tr\")[i].select(\"td\")\n",
    "    \n",
    "    #print(\"\\n\", values, \"\\n\")\n",
    "    #print(\"\\n\", values.select(\"td\"))\n",
    "    values_lst = []\n",
    "    for value in values:\n",
    "        #print(\"\\n\", value.get_text())\n",
    "        value = value.get_text()\n",
    "        values_lst.append(value)\n",
    "        \n",
    "    if i in [5, 6, 8, 10, 12]:\n",
    "        values_lst = values_lst[0].split(\"\\n\")[1:-1]\n",
    "    elif i in [13,16,17]:\n",
    "        values_lst = values_lst[0][:-3]\n",
    "    else:\n",
    "        values_lst = values_lst[0]\n",
    "       \n",
    "    #print(values_lst)\n",
    "    #print(type(values_lst))\n",
    "    \n",
    "    infobox_dict[key] = values_lst\n",
    "\n",
    "infobox_dict[\"Distributed by\"] = infobox_dict[\"Distributed by\"][:19] + \" \" + infobox_dict[\"Distributed by\"][19:]\n",
    "    \n",
    "#print(infobox_dict[\"Distributed by\"][:19] + \" \" + infobox_dict[\"Distributed by\"][19:])\n",
    "print(infobox_dict)\n"
   ]
  }
 ],
 "metadata": {
  "kernelspec": {
   "display_name": "Python 3",
   "language": "python",
   "name": "python3"
  },
  "language_info": {
   "codemirror_mode": {
    "name": "ipython",
    "version": 3
   },
   "file_extension": ".py",
   "mimetype": "text/x-python",
   "name": "python",
   "nbconvert_exporter": "python",
   "pygments_lexer": "ipython3",
   "version": "3.8.6"
  }
 },
 "nbformat": 4,
 "nbformat_minor": 4
}
