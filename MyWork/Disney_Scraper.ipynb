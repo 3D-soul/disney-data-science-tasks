{
 "cells": [
  {
   "cell_type": "markdown",
   "metadata": {},
   "source": [
    "### Loading the Libraries"
   ]
  },
  {
   "cell_type": "code",
   "execution_count": 2,
   "metadata": {},
   "outputs": [],
   "source": [
    "import requests\n",
    "from bs4 import BeautifulSoup as bs"
   ]
  },
  {
   "cell_type": "markdown",
   "metadata": {},
   "source": [
    "## TASKS"
   ]
  },
  {
   "cell_type": "markdown",
   "metadata": {},
   "source": [
    "#### Task 1: Scrape the infobox from Toy Story 3 wiki page and save it to a python dictionary "
   ]
  },
  {
   "cell_type": "code",
   "execution_count": 2,
   "metadata": {},
   "outputs": [],
   "source": [
    "url = \"https://en.wikipedia.org/wiki/Toy_Story_3\"\n",
    "req = requests.get(url)\n",
    "soup = bs(req.content)\n",
    "\n",
    "#soup.body"
   ]
  },
  {
   "cell_type": "markdown",
   "metadata": {},
   "source": [
    "##### MY WAY  :"
   ]
  },
  {
   "cell_type": "code",
   "execution_count": 3,
   "metadata": {},
   "outputs": [],
   "source": [
    "infobox = soup.find(\"table\", attrs={\"class\":\"infobox vevent\"})\n",
    "\n",
    "#infobox"
   ]
  },
  {
   "cell_type": "code",
   "execution_count": 7,
   "metadata": {},
   "outputs": [
    {
     "name": "stdout",
     "output_type": "stream",
     "text": [
      "{'Directed by': 'Lee Unkrich', 'Produced by': 'Darla K. Anderson', 'Screenplay by': 'Michael Arndt', 'Story by': ['John Lasseter', 'Andrew Stanton', 'Lee Unkrich'], 'Starring': ['Tom Hanks', 'Tim Allen', 'Joan Cusack', 'Don Rickles', 'Wallace Shawn', 'John Ratzenberger', 'Estelle Harris', 'Blake Clark', 'Jeff Pidgeon', 'Ned Beatty', 'Michael Keaton', 'Jodi Benson', 'John Morris'], 'Music by': 'Randy Newman', 'Cinematography': ['Jeremy Lasky', 'Kim White'], 'Edited by': 'Ken Schretzmann', 'Productioncompany ': ['Walt Disney Pictures', 'Pixar Animation Studios'], 'Distributed by': 'Walt Disney Studios Motion Pictures', 'Release date': ['June\\xa012,\\xa02010\\xa0(2010-06-12) (Taormina Film Fest)', 'June\\xa018,\\xa02010\\xa0(2010-06-18) (United States)'], 'Running time': '103 minutes', 'Country': 'United States', 'Language': 'English', 'Budget': '$200\\xa0million', 'Box office': '$1.067\\xa0billion'}\n"
     ]
    }
   ],
   "source": [
    "#infobox.select(\"tr\")[].find(\"th\").get_text()\n",
    "#infobox.select(\"tr\")[2:]\n",
    "\n",
    "infobox_dict ={}\n",
    "for i in range(2, 18):\n",
    "    key = infobox.select(\"tr\")[i].find(\"th\").get_text()\n",
    "    values = infobox.select(\"tr\")[i].select(\"td\")\n",
    "    \n",
    "    values_lst = []\n",
    "    for value in values:\n",
    "        value = value.get_text()\n",
    "        values_lst.append(value)\n",
    "        \n",
    "    if i in [5, 6, 8, 10, 12]:\n",
    "        values_lst = values_lst[0].split(\"\\n\")[1:-1]\n",
    "    elif i in [13,16,17]:\n",
    "        values_lst = values_lst[0][:-3]\n",
    "    else:\n",
    "        values_lst = values_lst[0]\n",
    "    \n",
    "    infobox_dict[key] = values_lst\n",
    "\n",
    "infobox_dict[\"Distributed by\"] = infobox_dict[\"Distributed by\"][:19] + \" \" + infobox_dict[\"Distributed by\"][19:]\n",
    "    \n",
    "print(infobox_dict)\n"
   ]
  },
  {
   "cell_type": "markdown",
   "metadata": {},
   "source": [
    "##### KEITH'S WAY :"
   ]
  },
  {
   "cell_type": "code",
   "execution_count": 9,
   "metadata": {},
   "outputs": [],
   "source": [
    "contents = soup.prettify()\n",
    "#print(contents)"
   ]
  },
  {
   "cell_type": "code",
   "execution_count": 16,
   "metadata": {},
   "outputs": [],
   "source": [
    "info_box = soup.find(class_ = \"infobox vevent\")\n",
    "info_rows = info_box.find_all(\"tr\")\n",
    "\n",
    "#for row in info_rows:\n",
    "    #print(row.prettify())\n"
   ]
  },
  {
   "cell_type": "code",
   "execution_count": 27,
   "metadata": {},
   "outputs": [
    {
     "data": {
      "text/plain": [
       "{'Title': 'Toy Story 3',\n",
       " 'Directed by': 'Lee Unkrich',\n",
       " 'Produced by': 'Darla K. Anderson',\n",
       " 'Screenplay by': 'Michael Arndt',\n",
       " 'Story by': ['John Lasseter', 'Andrew Stanton', 'Lee Unkrich'],\n",
       " 'Starring': ['Tom Hanks',\n",
       "  'Tim Allen',\n",
       "  'Joan Cusack',\n",
       "  'Don Rickles',\n",
       "  'Wallace Shawn',\n",
       "  'John Ratzenberger',\n",
       "  'Estelle Harris',\n",
       "  'Blake Clark',\n",
       "  'Jeff Pidgeon',\n",
       "  'Ned Beatty',\n",
       "  'Michael Keaton',\n",
       "  'Jodi Benson',\n",
       "  'John Morris'],\n",
       " 'Music by': 'Randy Newman',\n",
       " 'Cinematography': ['Jeremy Lasky', 'Kim White'],\n",
       " 'Edited by': 'Ken Schretzmann',\n",
       " 'Production company': ['Walt Disney Pictures', 'Pixar Animation Studios'],\n",
       " 'Distributed by': 'Walt Disney Studios Motion Pictures',\n",
       " 'Release date': ['June 12, 2010 ( 2010-06-12 ) ( Taormina Film Fest )',\n",
       "  'June 18, 2010 ( 2010-06-18 ) (United States)'],\n",
       " 'Running time': '103 minutes [1]',\n",
       " 'Country': 'United States',\n",
       " 'Language': 'English',\n",
       " 'Budget': '$200 million [1]',\n",
       " 'Box office': '$1.067 billion [1]'}"
      ]
     },
     "execution_count": 27,
     "metadata": {},
     "output_type": "execute_result"
    }
   ],
   "source": [
    "def get_content_value(row_data):\n",
    "    if row_data.find(\"li\"):\n",
    "        return [li.get_text(\" \", strip=True).replace(\"\\xa0\", \" \") for li in row_data.find_all(\"li\")]\n",
    "    else:\n",
    "        return row_data.get_text(\" \", strip=True).replace(\"\\xa0\", \" \")\n",
    "\n",
    "movie_info = {}\n",
    "\n",
    "for index,row in enumerate(info_rows):\n",
    "    if index == 0:\n",
    "        movie_info[\"Title\"] = row.find(\"th\").get_text()\n",
    "    elif index == 1:\n",
    "        continue\n",
    "    else:\n",
    "        content_key = row.find(\"th\").get_text(\" \", strip=True)\n",
    "        content_value = get_content_value(row.find(\"td\"))\n",
    "        movie_info[content_key] = content_value\n",
    "               \n",
    "movie_info    "
   ]
  },
  {
   "cell_type": "markdown",
   "metadata": {},
   "source": [
    "#### Task 2: Scrape infobox for all movies in List of Disney Films (save as list of dictionaries)"
   ]
  },
  {
   "cell_type": "markdown",
   "metadata": {},
   "source": [
    "##### MY WAY"
   ]
  },
  {
   "cell_type": "code",
   "execution_count": 48,
   "metadata": {},
   "outputs": [],
   "source": [
    "main_url = \"https://en.wikipedia.org\"\n",
    "url = \"/wiki/List_of_Walt_Disney_Pictures_films\"\n",
    "req = requests.get(main_url + url)\n",
    "soup = bs(req.content)"
   ]
  },
  {
   "cell_type": "code",
   "execution_count": 57,
   "metadata": {},
   "outputs": [
    {
     "data": {
      "text/plain": [
       "'/wiki/Snow_White_and_the_Seven_Dwarfs_(1937_film)'"
      ]
     },
     "execution_count": 57,
     "metadata": {},
     "output_type": "execute_result"
    }
   ],
   "source": [
    "#print(soup.prettify())\n",
    "table = soup.select(\"td a\")\n",
    "test_url = table[5][\"href\"]\n",
    "\n",
    "test_url"
   ]
  },
  {
   "cell_type": "code",
   "execution_count": 52,
   "metadata": {},
   "outputs": [],
   "source": [
    "def get_content_value(row_data):\n",
    "    if row_data.find(\"li\"):\n",
    "        return [li.get_text(\" \", strip=True).replace(\"\\xa0\", \" \") for li in row_data.find_all(\"li\")]\n",
    "    else:\n",
    "        return row_data.get_text(\" \", strip=True).replace(\"\\xa0\", \" \")\n"
   ]
  },
  {
   "cell_type": "code",
   "execution_count": 62,
   "metadata": {},
   "outputs": [],
   "source": [
    "def get_infobox(url):\n",
    "    main_url = \"https://en.wikipedia.org\"\n",
    "    req2 = requests.get(main_url + url)\n",
    "    webpage = bs(req2.content)\n",
    "\n",
    "    info_box = webpage.find(class_ = \"infobox vevent\")\n",
    "    info_rows = info_box.find_all(\"tr\")\n",
    "\n",
    "\n",
    "    movie_info = {}\n",
    "\n",
    "    for index,row in enumerate(info_rows):\n",
    "        if index == 0:\n",
    "            movie_info[\"Title\"] = row.find(\"th\").get_text()\n",
    "        elif index == 1:\n",
    "            continue\n",
    "        else:\n",
    "            content_key = row.find(\"th\").get_text(\" \", strip=True)\n",
    "            content_value = get_content_value(row.find(\"td\"))\n",
    "            movie_info[content_key] = content_value\n",
    "            \n",
    "    return movie_info    \n",
    "\n",
    "#get_infobox('/wiki/Snow_White_and_the_Seven_Dwarfs_(1937_film)')"
   ]
  },
  {
   "cell_type": "code",
   "execution_count": 80,
   "metadata": {},
   "outputs": [
    {
     "data": {
      "text/plain": [
       "738"
      ]
     },
     "execution_count": 80,
     "metadata": {},
     "output_type": "execute_result"
    }
   ],
   "source": [
    "url_lst = []\n",
    "for tag in table[4:-37]:\n",
    "    link = tag[\"href\"]\n",
    "    #print(link)\n",
    "    if link.startswith(\"/wiki\") :\n",
    "        #print(link)\n",
    "        url_lst.append(link)\n",
    "\n",
    "#len(url_lst)        "
   ]
  },
  {
   "cell_type": "code",
   "execution_count": 111,
   "metadata": {},
   "outputs": [],
   "source": [
    "#movies_infobox_lst = []\n",
    "\n",
    "#urls = []"
   ]
  },
  {
   "cell_type": "code",
   "execution_count": 123,
   "metadata": {},
   "outputs": [
    {
     "name": "stdout",
     "output_type": "stream",
     "text": [
      "0 /wiki/Dolphin_Reef_(film)\n",
      "1 /wiki/Disneynature\n",
      "--- skipping this ---\n",
      "2 /wiki/Elephant_(2020_film)\n",
      "3 /wiki/Disneynature\n",
      "--- skipping this ---\n",
      "4 /wiki/Artemis_Fowl_(film)\n",
      "5 /wiki/TriBeCa_Productions\n",
      "--- skipping this ---\n",
      "6 /wiki/Hamilton_(2020_film)\n",
      "7 /wiki/Lin-Manuel_Miranda\n",
      "--- skipping this ---\n",
      "8 /wiki/Thomas_Kail\n",
      "--- skipping this ---\n",
      "9 /wiki/RadicalMedia\n",
      "--- skipping this ---\n",
      "10 /wiki/Black_Is_King\n",
      "11 /wiki/Parkwood_Entertainment\n",
      "--- skipping this ---\n",
      "12 /wiki/Magic_Camp_(film)\n",
      "13 /wiki/The_One_and_Only_Ivan_(film)\n",
      "14 /wiki/Phineas_and_Ferb_the_Movie:_Candace_Against_the_Universe\n",
      "15 /wiki/Mulan_(2020_film)\n",
      "16 /wiki/Secret_Society_of_Second-Born_Royals\n",
      "17 /wiki/List_of_films_with_live_action_and_animation\n",
      "--- skipping this ---\n",
      "18 /wiki/Live_action\n",
      "--- skipping this ---\n",
      "19 /wiki/True-Life_Adventures#Films\n",
      "--- skipping this ---\n",
      "20 /wiki/Disneynature\n",
      "--- skipping this ---\n",
      "21 /wiki/Black_Beauty_(2020_film)\n",
      "22 /wiki/Constantin_Film\n",
      "--- skipping this ---\n",
      "23 /wiki/Soul_(2020_film)\n",
      "24 /wiki/Pixar\n",
      "--- skipping this ---\n",
      "25 /wiki/Raya_and_the_Last_Dragon\n",
      "26 /wiki/Walt_Disney_Animation_Studios\n",
      "--- skipping this ---\n",
      "27 /wiki/Cruella_(film)\n",
      "28 /wiki/Andrew_Gunn_(film_producer)\n",
      "--- skipping this ---\n",
      "29 /wiki/Marc_Platt_Productions\n",
      "--- skipping this ---\n",
      "30 /wiki/Pixar\n",
      "--- skipping this ---\n",
      "31 /wiki/Jungle_Cruise_(film)\n",
      "32 /wiki/Davis_Entertainment\n",
      "--- skipping this ---\n",
      "33 /wiki/Flynn_Picture_Company\n",
      "--- skipping this ---\n",
      "34 /wiki/Seven_Bucks_Productions\n",
      "--- skipping this ---\n",
      "35 /wiki/The_Beatles:_Get_Back\n",
      "36 /wiki/Apple_Corps\n",
      "--- skipping this ---\n",
      "37 /wiki/Wingnut_Films\n",
      "--- skipping this ---\n"
     ]
    }
   ],
   "source": [
    "urls = url_lst[700:]\n",
    "#urls\n",
    "\n",
    "\n",
    "for index,lnk in enumerate(urls):\n",
    "    print(index, lnk)\n",
    "    try:\n",
    "        tmp_dct = get_infobox(lnk)\n",
    "    except:\n",
    "        print(\"--- skipping this ---\")\n",
    "        continue\n",
    "    #print(index, lnk)\n",
    "    movies_infobox_lst.append(tmp_dct) "
   ]
  },
  {
   "cell_type": "code",
   "execution_count": 124,
   "metadata": {},
   "outputs": [
    {
     "data": {
      "text/plain": [
       "428"
      ]
     },
     "execution_count": 124,
     "metadata": {},
     "output_type": "execute_result"
    }
   ],
   "source": [
    "#movies_infobox_lst\n",
    "\n",
    "#len(movies_infobox_lst)"
   ]
  },
  {
   "cell_type": "code",
   "execution_count": 133,
   "metadata": {},
   "outputs": [],
   "source": [
    "# saving the list\n",
    "import json\n",
    "\n",
    "with open('./data/movies_infobox.txt', 'w') as fh:\n",
    "    fh.write(json.dumps(movies_infobox_lst, indent=4))"
   ]
  },
  {
   "cell_type": "code",
   "execution_count": 18,
   "metadata": {},
   "outputs": [
    {
     "name": "stdout",
     "output_type": "stream",
     "text": [
      "Hannah Montana and Miley Cyrus:Best of Both Worlds Concert\n"
     ]
    }
   ],
   "source": [
    "import json\n",
    "\n",
    "with open('./data/movies_infobox.txt', 'r') as fh:\n",
    "    content = json.load(fh)\n",
    "    #print(type(content))\n",
    "\n",
    "print(content[305][\"Title\"])\n",
    "#print(len(content))"
   ]
  },
  {
   "cell_type": "markdown",
   "metadata": {},
   "source": [
    "##### Keith's WAY"
   ]
  },
  {
   "cell_type": "code",
   "execution_count": 20,
   "metadata": {},
   "outputs": [],
   "source": [
    "url = \"https://en.wikipedia.org/wiki/List_of_Walt_Disney_Pictures_films\"\n",
    "req = requests.get(url)\n",
    "soup = bs(req.content)\n",
    "\n",
    "content = soup.prettify()\n",
    "#print(content)"
   ]
  },
  {
   "cell_type": "code",
   "execution_count": 41,
   "metadata": {},
   "outputs": [],
   "source": [
    "#movies = soup.find_all(class_=\"wikitable sortable\")\n",
    "movies = soup.select(\".wikitable.sortable i a\")\n",
    "\n",
    "#movies[:11]\n",
    "\n",
    "#movies[0].a[\"href\"]\n",
    "#movies[0].a[\"title\"]"
   ]
  },
  {
   "cell_type": "code",
   "execution_count": 44,
   "metadata": {},
   "outputs": [],
   "source": [
    "def get_content_value(row_data):\n",
    "    if row_data.find(\"li\"):\n",
    "        return [li.get_text(\" \", strip=True).replace(\"\\xa0\", \" \") for li in row_data.find_all(\"li\")]\n",
    "    else:\n",
    "        return row_data.get_text(\" \", strip=True).replace(\"\\xa0\", \" \")\n",
    "\n",
    "def get_infobox(url):\n",
    "    req2 = requests.get(url)\n",
    "    webpage = bs(req2.content)\n",
    "\n",
    "    info_box = webpage.find(class_ = \"infobox vevent\")\n",
    "    info_rows = info_box.find_all(\"tr\")\n",
    "\n",
    "    movie_info = {}\n",
    "\n",
    "    for index,row in enumerate(info_rows):\n",
    "        if index == 0:\n",
    "            movie_info[\"Title\"] = row.find(\"th\").get_text()\n",
    "        elif index == 1:\n",
    "            continue\n",
    "        else:\n",
    "            content_key = row.find(\"th\").get_text(\" \", strip=True)\n",
    "            content_value = get_content_value(row.find(\"td\"))\n",
    "            movie_info[content_key] = content_value\n",
    "            \n",
    "    return movie_info     "
   ]
  },
  {
   "cell_type": "code",
   "execution_count": 82,
   "metadata": {},
   "outputs": [],
   "source": [
    "#movies_info_lst = []\n",
    "\n",
    "base_path = \"https://en.wikipedia.org/\"\n",
    "for index,movie in enumerate(movies):  \n",
    "    #if index == 10:\n",
    "        #break\n",
    "    \n",
    "    try:\n",
    "        relative_path = movie[\"href\"]\n",
    "        full_path = base_path + relative_path\n",
    "        Title = movie[\"title\"]\n",
    "        \n",
    "        #movies_info_lst.append(get_infobox(full_path))\n",
    "               \n",
    "    except Exception as ex:\n",
    "        print(movie.get_text())\n",
    "        print(ex)   "
   ]
  },
  {
   "cell_type": "code",
   "execution_count": 88,
   "metadata": {},
   "outputs": [
    {
     "data": {
      "text/plain": [
       "427"
      ]
     },
     "execution_count": 88,
     "metadata": {},
     "output_type": "execute_result"
    }
   ],
   "source": [
    "#movies_info_lst\n",
    "len(movies_info_lst)"
   ]
  },
  {
   "cell_type": "markdown",
   "metadata": {},
   "source": [
    "###  Save and Reload the Data"
   ]
  },
  {
   "cell_type": "code",
   "execution_count": 92,
   "metadata": {},
   "outputs": [],
   "source": [
    "import json\n",
    "\n",
    "def save_data(title, data):\n",
    "    with open(title, \"w\", encoding=\"utf-8\") as fh:\n",
    "        json.dump(data, fh, ensure_ascii=False, indent=4)"
   ]
  },
  {
   "cell_type": "code",
   "execution_count": 93,
   "metadata": {},
   "outputs": [],
   "source": [
    "import json\n",
    "\n",
    "def load_data(title):\n",
    "    with open(title, \"r\", encoding=\"utf-8\") as fh:\n",
    "        return json.load(fh)   "
   ]
  },
  {
   "cell_type": "code",
   "execution_count": 94,
   "metadata": {},
   "outputs": [],
   "source": [
    "save_data(\"./data/disneydata.json\", movies_info_lst)"
   ]
  },
  {
   "cell_type": "markdown",
   "metadata": {},
   "source": [
    "## Task 3: Clean our data!"
   ]
  },
  {
   "cell_type": "code",
   "execution_count": 97,
   "metadata": {},
   "outputs": [],
   "source": [
    "movies_info_list = load_data(\"./data/disneydata.json\")\n",
    "\n",
    "#movies_info_list"
   ]
  },
  {
   "cell_type": "markdown",
   "metadata": {},
   "source": [
    "### Substasks\n",
    "- Strip out all references ([1],[2],etc) from HTML\n",
    "- Split up the long strings\n",
    "- Examine errors we are getting\n",
    "- Convert “Running time” field to an integer\n",
    "- Convert “Budget” & “Box office” fields to floats\n",
    "- Convert dates into datetime objects"
   ]
  },
  {
   "cell_type": "code",
   "execution_count": 133,
   "metadata": {},
   "outputs": [],
   "source": [
    "import re\n",
    "\n",
    "def remove_reference(text):\n",
    "    rx = re.compile(r'[[0-9]+]')\n",
    "    rx = rx.sub('', text)\n",
    "    \n",
    "    return rx"
   ]
  },
  {
   "cell_type": "code",
   "execution_count": 138,
   "metadata": {},
   "outputs": [],
   "source": [
    "## ---  remove the references from HTML ---\n",
    "def get_rid_of_ref(movie, key, value):\n",
    "    try:\n",
    "        value = remove_reference(movie[key]) \n",
    "        movie[key] = value.strip()\n",
    "    except Exception as ex:\n",
    "        pass\n",
    "\n",
    "for movie in movies_info_lst:\n",
    "    for key, value in movie.items():\n",
    "        if type(value) != list:\n",
    "            get_rid_of_ref(movie, key, value)\n",
    "        else:\n",
    "            value_lst = [remove_reference(value).strip() for value in movie[key]]\n",
    "            movie[key] = value\n",
    "            "
   ]
  },
  {
   "cell_type": "markdown",
   "metadata": {},
   "source": [
    "#### KIeth's Way:"
   ]
  },
  {
   "cell_type": "code",
   "execution_count": 169,
   "metadata": {},
   "outputs": [],
   "source": [
    "def get_content_value(row_data):\n",
    "    if row_data.find(\"li\"):\n",
    "        return [li.get_text(\" \", strip=True).replace(\"\\xa0\", \" \") for li in row_data.find_all(\"li\")]\n",
    "    elif row_data.find(\"br\"):\n",
    "        return [text for text in row_data.stripped_strings]\n",
    "    else:\n",
    "        return row_data.get_text(\" \", strip=True).replace(\"\\xa0\", \" \")\n",
    "    \n",
    "def clean_tags(soup):\n",
    "    for tag in soup.find_all([\"sup\", \"span\"]):\n",
    "        tag.decompose()\n",
    "    \n",
    "def get_info_box(url):\n",
    "    req2 = requests.get(url)\n",
    "    webpage = bs(req2.content)\n",
    "\n",
    "    info_box = webpage.find(class_ = \"infobox vevent\")\n",
    "    info_rows = info_box.find_all(\"tr\")\n",
    "    \n",
    "    clean_tags(webpage)\n",
    "    \n",
    "    movie_info = {}\n",
    "\n",
    "    for index,row in enumerate(info_rows):\n",
    "        if index == 0:\n",
    "            movie_info[\"Title\"] = row.find(\"th\").get_text()\n",
    "        else:\n",
    "            header = row.find(\"th\")\n",
    "            if header:\n",
    "                content_key = row.find(\"th\").get_text(\" \", strip=True)\n",
    "                content_value = get_content_value(row.find(\"td\"))\n",
    "                movie_info[content_key] = content_value\n",
    "\n",
    "    return movie_info  "
   ]
  },
  {
   "cell_type": "code",
   "execution_count": 187,
   "metadata": {},
   "outputs": [],
   "source": [
    "#get_info_box(\"https://en.wikipedia.org/wiki/One_Little_Indian_(film)\") \n",
    "#movies[0][\"title\"]"
   ]
  },
  {
   "cell_type": "code",
   "execution_count": 192,
   "metadata": {},
   "outputs": [
    {
     "name": "stdout",
     "output_type": "stream",
     "text": [
      "--- 0 movies data recieved ---\n",
      "Academy Award Review of Walt Disney Cartoons\n",
      "Snow White and the Seven Dwarfs\n",
      "Pinocchio\n",
      "Fantasia\n",
      "The Reluctant Dragon\n",
      "Dumbo\n",
      "Bambi\n",
      "Saludos Amigos\n",
      "Victory Through Air Power\n",
      "The Three Caballeros\n",
      "--- 10 movies data recieved ---\n",
      "Make Mine Music\n",
      "Song of the South\n",
      "Fun and Fancy Free\n",
      "Melody Time\n",
      "So Dear to My Heart\n",
      "The Adventures of Ichabod and Mr. Toad\n",
      "Cinderella\n",
      "Treasure Island\n",
      "Alice in Wonderland\n",
      "The Story of Robin Hood and His Merrie Men\n",
      "--- 20 movies data recieved ---\n",
      "Peter Pan\n",
      "The Sword and the Rose\n",
      "The Living Desert\n",
      "Rob Roy, the Highland Rogue\n",
      "The Vanishing Prairie\n",
      "20,000 Leagues Under the Sea\n",
      "Davy Crockett, King of the Wild Frontier\n",
      "Lady and the Tramp\n",
      "The African Lion\n",
      "The Littlest Outlaw\n",
      "--- 30 movies data recieved ---\n",
      "The Great Locomotive Chase\n",
      "Davy Crockett and the River Pirates\n",
      "Secrets of Life\n",
      "Westward Ho the Wagons!\n",
      "Johnny Tremain\n",
      "Perri\n",
      "Old Yeller\n",
      "The Light in the Forest\n",
      "White Wilderness\n",
      "Tonka\n",
      "--- 40 movies data recieved ---\n",
      "Sleeping Beauty\n",
      "The Shaggy Dog\n",
      "Darby O'Gill and the Little People\n",
      "Zorro the Avenger\n",
      "Zorro the Avenger\n",
      "'NoneType' object has no attribute 'find'\n",
      "-- skipping this ---\n",
      "Third Man on the Mountain\n",
      "Toby Tyler\n",
      "Kidnapped\n",
      "Pollyanna\n",
      "The Sign of Zorro\n",
      "The Sign of Zorro\n",
      "'NoneType' object has no attribute 'find'\n",
      "-- skipping this ---\n",
      "Jungle Cat\n",
      "--- 50 movies data recieved ---\n",
      "Ten Who Dared\n",
      "Ten Who Dared\n",
      "HTTPSConnectionPool(host='en.wikipedia.org', port=443): Max retries exceeded with url: //wiki/Ten_Who_Dared (Caused by NewConnectionError('<urllib3.connection.HTTPSConnection object at 0x000002938C9C5D90>: Failed to establish a new connection: [WinError 10060] A connection attempt failed because the connected party did not properly respond after a period of time, or established connection failed because connected host has failed to respond'))\n",
      "-- skipping this ---\n",
      "Swiss Family Robinson\n",
      "One Hundred and One Dalmatians\n",
      "The Absent-Minded Professor\n",
      "The Parent Trap\n",
      "Nikki, Wild Dog of the North\n",
      "Greyfriars Bobby\n",
      "Babes in Toyland\n",
      "Moon Pilot\n",
      "Bon Voyage!\n",
      "--- 60 movies data recieved ---\n",
      "Big Red\n",
      "Almost Angels\n",
      "The Legend of Lobo\n",
      "In Search of the Castaways\n",
      "Son of Flubber\n",
      "Miracle of the White Stallions\n",
      "Savage Sam\n",
      "Summer Magic\n",
      "The Incredible Journey\n",
      "The Sword in the Stone\n",
      "--- 70 movies data recieved ---\n",
      "A Tiger Walks\n",
      "The Misadventures of Merlin Jones\n",
      "The Three Lives of Thomasina\n",
      "The Moon-Spinners\n",
      "Mary Poppins\n",
      "Emil and the Detectives\n",
      "Those Calloways\n",
      "The Monkey's Uncle\n",
      "That Darn Cat!\n",
      "The Ugly Dachshund\n",
      "--- 80 movies data recieved ---\n",
      "Lt. Robin Crusoe, U.S.N.\n",
      "The Fighting Prince of Donegal\n",
      "Follow Me, Boys!\n",
      "Monkeys, Go Home!\n",
      "The Adventures of Bullwhip Griffin\n",
      "The Gnome-Mobile\n",
      "The Jungle Book\n",
      "Charlie, the Lonesome Cougar\n",
      "The Happiest Millionaire\n",
      "Blackbeard's Ghost\n",
      "--- 90 movies data recieved ---\n",
      "The One and Only, Genuine, Original Family Band\n",
      "Never a Dull Moment\n",
      "The Horse in the Gray Flannel Suit\n",
      "The Love Bug\n",
      "The Love Bug\n",
      "HTTPSConnectionPool(host='en.wikipedia.org', port=443): Max retries exceeded with url: //wiki/The_Love_Bug (Caused by NewConnectionError('<urllib3.connection.HTTPSConnection object at 0x0000029389FEC190>: Failed to establish a new connection: [WinError 10060] A connection attempt failed because the connected party did not properly respond after a period of time, or established connection failed because connected host has failed to respond'))\n",
      "-- skipping this ---\n",
      "Smith!\n",
      "Rascal\n",
      "The Computer Wore Tennis Shoes\n",
      "King of the Grizzlies\n",
      "The Boatniks\n",
      "The Wild Country\n",
      "--- 100 movies data recieved ---\n",
      "The Aristocats\n",
      "The Barefoot Executive\n",
      "Scandalous John\n",
      "The Million Dollar Duck\n",
      "Bedknobs and Broomsticks\n",
      "The Biscuit Eater\n",
      "Now You See Him, Now You Don't\n",
      "Napoleon and Samantha\n",
      "Run, Cougar, Run\n",
      "Snowball Express\n",
      "--- 110 movies data recieved ---\n",
      "The World's Greatest Athlete\n",
      "Charley and the Angel\n",
      "One Little Indian\n",
      "Robin Hood\n",
      "Superdad\n",
      "Herbie Rides Again\n",
      "The Bears and I\n",
      "The Castaway Cowboy\n",
      "The Island at the Top of the World\n",
      "The Strongest Man in the World\n",
      "--- 120 movies data recieved ---\n",
      "Escape to Witch Mountain\n",
      "The Apple Dumpling Gang\n",
      "One of Our Dinosaurs Is Missing\n",
      "The Best of Walt Disney's True-Life Adventures\n",
      "True-Life Adventures\n",
      "True-Life Adventures\n",
      "'NoneType' object has no attribute 'find_all'\n",
      "-- skipping this ---\n",
      "Ride a Wild Pony\n",
      "No Deposit, No Return\n",
      "Treasure of Matecumbe\n",
      "Gus\n",
      "The Shaggy D.A.\n",
      "--- 130 movies data recieved ---\n",
      "Freaky Friday\n",
      "The Littlest Horse Thieves\n",
      "The Many Adventures of Winnie the Pooh\n",
      "A Tale of Two Critters\n",
      "The Rescuers\n",
      "Herbie Goes to Monte Carlo\n",
      "Pete's Dragon\n",
      "Candleshoe\n",
      "Return from Witch Mountain\n",
      "The Cat from Outer Space\n",
      "--- 140 movies data recieved ---\n",
      "Hot Lead and Cold Feet\n",
      "The North Avenue Irregulars\n",
      "The Apple Dumpling Gang Rides Again\n",
      "Unidentified Flying Oddball\n",
      "The Black Hole\n",
      "The London Connection\n",
      "Midnight Madness\n",
      "The Watcher in the Woods\n",
      "Herbie Goes Bananas\n",
      "The Last Flight of Noah's Ark\n",
      "--- 150 movies data recieved ---\n",
      "Popeye\n",
      "The Devil and Max Devlin\n",
      "Amy\n",
      "Dragonslayer\n",
      "The Fox and the Hound\n",
      "Condorman\n",
      "Night Crossing\n",
      "Tron\n",
      "Tex\n",
      "Trenchcoat\n",
      "--- 160 movies data recieved ---\n",
      "Something Wicked This Way Comes\n",
      "Never Cry Wolf\n",
      "Return to Oz\n",
      "The Black Cauldron\n",
      "The Journey of Natty Gann\n",
      "One Magic Christmas\n",
      "The Great Mouse Detective\n",
      "Flight of the Navigator\n",
      "Benji the Hunted\n",
      "Return to Snowy River\n",
      "--- 170 movies data recieved ---\n",
      "Oliver & Company\n",
      "Honey, I Shrunk the Kids\n",
      "Cheetah\n",
      "The Little Mermaid\n",
      "DuckTales the Movie: Treasure of the Lost Lamp\n",
      "The Rescuers Down Under\n",
      "White Fang\n",
      "Shipwrecked\n",
      "Wild Hearts Can't Be Broken\n",
      "The Rocketeer\n",
      "--- 180 movies data recieved ---\n",
      "Beauty and the Beast\n",
      "Newsies\n",
      "Honey, I Blew Up the Kid\n",
      "The Mighty Ducks\n",
      "Aladdin\n",
      "The Muppet Christmas Carol\n",
      "Homeward Bound: The Incredible Journey\n",
      "A Far Off Place\n",
      "The Adventures of Huck Finn\n",
      "Hocus Pocus\n",
      "--- 190 movies data recieved ---\n",
      "Cool Runnings\n",
      "The Three Musketeers\n",
      "Iron Will\n",
      "Blank Check\n",
      "D2: The Mighty Ducks\n",
      "White Fang 2: Myth of the White Wolf\n",
      "The Lion King\n",
      "Angels in the Outfield\n",
      "Squanto: A Warrior's Tale\n",
      "The Santa Clause\n",
      "--- 200 movies data recieved ---\n",
      "The Jungle Book\n",
      "Heavyweights\n",
      "Man of the House\n",
      "Tall Tale\n",
      "A Goofy Movie\n",
      "Pocahontas\n",
      "Operation Dumbo Drop\n",
      "A Kid in King Arthur's Court\n",
      "The Big Green\n",
      "Frank and Ollie\n",
      "--- 210 movies data recieved ---\n",
      "Toy Story\n",
      "Tom and Huck\n",
      "Muppet Treasure Island\n",
      "Homeward Bound II: Lost in San Francisco\n",
      "James and the Giant Peach\n",
      "The Hunchback of Notre Dame\n",
      "First Kid\n",
      "D3: The Mighty Ducks\n",
      "101 Dalmatians\n",
      "That Darn Cat\n",
      "--- 220 movies data recieved ---\n",
      "Jungle 2 Jungle\n",
      "Hercules\n",
      "George of the Jungle\n",
      "Air Bud\n",
      "RocketMan\n",
      "Flubber\n",
      "Mr. Magoo\n",
      "Meet the Deedles\n",
      "Mulan\n",
      "The Parent Trap\n",
      "--- 230 movies data recieved ---\n",
      "I'll Be Home for Christmas\n",
      "A Bug's Life\n",
      "Mighty Joe Young\n",
      "My Favorite Martian\n",
      "Doug's 1st Movie\n",
      "Endurance\n",
      "Tarzan\n",
      "Inspector Gadget\n",
      "The Straight Story\n",
      "Toy Story 2\n",
      "--- 240 movies data recieved ---\n",
      "Fantasia 2000\n",
      "The Tigger Movie\n",
      "Dinosaur\n",
      "Disney's The Kid\n",
      "Remember the Titans\n",
      "102 Dalmatians\n",
      "The Emperor's New Groove\n",
      "Recess: School's Out\n",
      "Atlantis: The Lost Empire\n",
      "The Princess Diaries\n",
      "--- 250 movies data recieved ---\n",
      "Max Keeble's Big Move\n",
      "Monsters, Inc.\n",
      "Snow Dogs\n",
      "Return to Never Land\n",
      "The Rookie\n",
      "Lilo & Stitch\n",
      "The Country Bears\n",
      "Spirited Away\n",
      "Tuck Everlasting\n",
      "The Santa Clause 2\n",
      "--- 260 movies data recieved ---\n",
      "Treasure Planet\n",
      "The Jungle Book 2\n",
      "Piglet's Big Movie\n",
      "Ghosts of the Abyss\n",
      "Holes\n",
      "The Lizzie McGuire Movie\n",
      "Finding Nemo\n",
      "Pirates of the Caribbean: The Curse of the Black Pearl\n",
      "Freaky Friday\n",
      "Brother Bear\n",
      "--- 270 movies data recieved ---\n",
      "The Haunted Mansion\n",
      "The Young Black Stallion\n",
      "Teacher's Pet\n",
      "Miracle\n",
      "Confessions of a Teenage Drama Queen\n",
      "Home on the Range\n",
      "Sacred Planet\n",
      "Around the World in 80 Days\n",
      "America's Heart and Soul\n",
      "The Princess Diaries 2: Royal Engagement\n",
      "--- 280 movies data recieved ---\n",
      "The Incredibles\n",
      "National Treasure\n",
      "Aliens of the Deep\n",
      "Pooh's Heffalump Movie\n",
      "The Pacifier\n",
      "Ice Princess\n",
      "Herbie: Fully Loaded\n",
      "Howl's Moving Castle\n",
      "Sky High\n",
      "Valiant\n",
      "--- 290 movies data recieved ---\n",
      "The Greatest Game Ever Played\n",
      "Chicken Little\n",
      "The Chronicles of Narnia: The Lion, the Witch and the Wardrobe\n",
      "Glory Road\n",
      "Roving Mars\n",
      "Eight Below\n",
      "The Shaggy Dog\n",
      "The Wild\n",
      "Cars\n",
      "Pirates of the Caribbean: Dead Man's Chest\n",
      "--- 300 movies data recieved ---\n",
      "Invincible\n",
      "The Nightmare Before Christmas 3D\n",
      "The Santa Clause 3: The Escape Clause\n",
      "Bridge to Terabithia\n",
      "Meet the Robinsons\n"
     ]
    },
    {
     "name": "stdout",
     "output_type": "stream",
     "text": [
      "Pirates of the Caribbean: At World's End\n",
      "Ratatouille\n",
      "Underdog\n",
      "The Pixar Story\n",
      "The Game Plan\n",
      "--- 310 movies data recieved ---\n",
      "Enchanted\n",
      "National Treasure: Book of Secrets\n",
      "Hannah Montana and Miley Cyrus: Best of Both Worlds Concert\n",
      "College Road Trip\n",
      "The Chronicles of Narnia: Prince Caspian\n",
      "WALL-E\n",
      "Beverly Hills Chihuahua\n",
      "Morning Light\n",
      "High School Musical 3: Senior Year\n",
      "Bolt\n",
      "--- 320 movies data recieved ---\n",
      "Bedtime Stories\n",
      "Jonas Brothers: The 3D Concert Experience\n",
      "Race to Witch Mountain\n",
      "Hannah Montana: The Movie\n",
      "Earth\n",
      "Up\n",
      "Lilly the Witch: The Dragon and the Magic Book\n",
      "G-Force\n",
      "Ponyo\n",
      "Walt & El Grupo\n",
      "--- 330 movies data recieved ---\n",
      "The Book of the Masters\n",
      "Disney's A Christmas Carol\n",
      "Old Dogs\n",
      "The Princess and the Frog\n",
      "Alice in Wonderland\n",
      "Oceans\n",
      "Prince of Persia: The Sands of Time\n",
      "Toy Story 3\n",
      "The Sorcerer's Apprentice\n",
      "Tales from Earthsea\n",
      "--- 340 movies data recieved ---\n",
      "The Crimson Wing: Mystery of the Flamingos\n",
      "Secretariat\n",
      "Do Dooni Chaar\n",
      "Tangled\n",
      "The Boys: The Sherman Brothers' Story\n",
      "Tron: Legacy\n",
      "Anaganaga O Dheerudu\n",
      "Lilly the Witch: The Journey to Mandolan\n",
      "Mars Needs Moms\n",
      "Zokkomon\n",
      "--- 350 movies data recieved ---\n",
      "African Cats\n",
      "Prom\n",
      "Pirates of the Caribbean: On Stranger Tides\n",
      "Cars 2\n",
      "Winnie the Pooh\n",
      "The Muppets\n",
      "The Secret World of Arrietty\n",
      "John Carter\n",
      "Chimpanzee\n",
      "Arjun: The Warrior Prince\n",
      "--- 360 movies data recieved ---\n",
      "Brave\n",
      "The Odd Life of Timothy Green\n",
      "Frankenweenie\n",
      "Wreck-It Ralph\n",
      "Oz the Great and Powerful\n",
      "Wings of Life\n",
      "Monsters University\n",
      "The Lone Ranger\n",
      "Planes\n",
      "Frozen\n",
      "--- 370 movies data recieved ---\n",
      "Saving Mr. Banks\n",
      "Muppets Most Wanted\n",
      "Bears\n",
      "Million Dollar Arm\n",
      "Maleficent\n",
      "Planes: Fire & Rescue\n",
      "Khoobsurat\n",
      "Alexander and the Terrible, Horrible, No Good, Very Bad Day\n",
      "Big Hero 6\n",
      "Into the Woods\n",
      "--- 380 movies data recieved ---\n",
      "McFarland, USA\n",
      "Cinderella\n",
      "Monkey Kingdom\n",
      "Tomorrowland\n",
      "Inside Out\n",
      "ABCD 2\n",
      "The Good Dinosaur\n",
      "The Finest Hours\n",
      "Zootopia\n",
      "The Jungle Book\n",
      "--- 390 movies data recieved ---\n",
      "Tini: The Movie\n",
      "Alice Through the Looking Glass\n",
      "Finding Dory\n",
      "The BFG\n",
      "Pete's Dragon\n",
      "Queen of Katwe\n",
      "Moana\n",
      "Dangal\n",
      "L'Empereur - March of the Penguins 2: The Next Step\n",
      "Beauty and the Beast\n",
      "--- 400 movies data recieved ---\n",
      "Born in China\n",
      "Pirates of the Caribbean: Dead Men Tell No Tales\n",
      "Cars 3\n",
      "Ghost of the Mountains\n",
      "Jagga Jasoos\n",
      "Coco\n",
      "A Wrinkle in Time\n",
      "Incredibles 2\n",
      "Christopher Robin\n",
      "The Nutcracker and the Four Realms\n",
      "--- 410 movies data recieved ---\n",
      "Ralph Breaks the Internet\n",
      "Mary Poppins Returns\n",
      "Dumbo\n",
      "Penguins\n",
      "Aladdin\n",
      "Toy Story 4\n",
      "The Lion King\n",
      "Maleficent: Mistress of Evil\n",
      "Lady and the Tramp\n",
      "Noelle\n",
      "--- 420 movies data recieved ---\n",
      "Frozen II\n",
      "Togo\n",
      "Timmy Failure: Mistakes Were Made\n",
      "Onward\n",
      "Stargirl\n",
      "Dolphin Reef\n",
      "Elephant\n",
      "Artemis Fowl\n",
      "Hamilton\n",
      "Black Is King\n",
      "--- 430 movies data recieved ---\n",
      "Magic Camp\n",
      "The One and Only Ivan\n",
      "Mulan\n",
      "Black Beauty\n",
      "Soul\n",
      "Raya and the Last Dragon\n",
      "Cruella\n",
      "Jungle Cruise\n",
      "The Beatles: Get Back\n"
     ]
    }
   ],
   "source": [
    "base_path = \"https://en.wikipedia.org/\"\n",
    "\n",
    "for index,movie in enumerate(movies):\n",
    "    if index % 10 == 0:\n",
    "        print( \"--- \" + str(index) + \" movies data recieved ---\" )\n",
    "    try:\n",
    "        relative_path = movie[\"href\"]\n",
    "        full_path = base_path + relative_path\n",
    "        Title = movie[\"title\"]\n",
    "        \n",
    "        print(movie.get_text())\n",
    "       #movies_info_lst.append(get_info_box(full_path))\n",
    "               \n",
    "    except Exception as ex:\n",
    "        print(movie.get_text())\n",
    "        print(ex)\n",
    "        print(\"-- skipping this ---\")"
   ]
  },
  {
   "cell_type": "code",
   "execution_count": 219,
   "metadata": {},
   "outputs": [
    {
     "data": {
      "text/plain": [
       "436"
      ]
     },
     "execution_count": 219,
     "metadata": {},
     "output_type": "execute_result"
    }
   ],
   "source": [
    "#movies_info_lst = []\n",
    "#movies_info_lst\n",
    "len(movies_info_lst)"
   ]
  },
  {
   "cell_type": "code",
   "execution_count": 218,
   "metadata": {},
   "outputs": [],
   "source": [
    "#The Love Bug\n",
    "#Ten Who Dared 1317\n",
    "#movies_info_list[91]\n",
    "#movies_info_list[48]\n",
    "\n",
    "movies_info_lst.append(tmp)"
   ]
  },
  {
   "cell_type": "code",
   "execution_count": 217,
   "metadata": {},
   "outputs": [
    {
     "data": {
      "text/plain": [
       "{'Title': 'The Love Bug',\n",
       " 'Directed by': 'Robert Stevenson',\n",
       " 'Produced by': 'Bill Walsh',\n",
       " 'Screenplay by': ['Bill Walsh', 'Don DaGradi'],\n",
       " 'Story by': 'Gordon Buford',\n",
       " 'Starring': ['Dean Jones', 'Michele Lee', 'David Tomlinson', 'Buddy Hackett'],\n",
       " 'Music by': 'George Bruns',\n",
       " 'Cinematography': 'Edward Colman',\n",
       " 'Edited by': 'Cotton Warburton',\n",
       " 'Production company': 'Walt Disney Productions',\n",
       " 'Distributed by': 'Buena Vista Distribution',\n",
       " 'Release date': ['December 24, 1968 (limited)', 'March 13, 1969 (wide)'],\n",
       " 'Running time': '108 minutes',\n",
       " 'Country': 'United States',\n",
       " 'Language': 'English',\n",
       " 'Budget': '$5 million',\n",
       " 'Box office': '$51,264,000'}"
      ]
     },
     "execution_count": 217,
     "metadata": {},
     "output_type": "execute_result"
    }
   ],
   "source": [
    "#tmp = get_info_box(\"https://en.wikipedia.org/wiki/Ten_Who_Dared\")\n",
    "tmp = get_info_box(\"https://en.wikipedia.org/wiki/The_Love_Bug\")\n",
    "\n",
    "tmp"
   ]
  },
  {
   "cell_type": "code",
   "execution_count": 220,
   "metadata": {},
   "outputs": [],
   "source": [
    "save_data(\"./data/disneydata_cleaned.json\", movies_info_lst)"
   ]
  },
  {
   "cell_type": "code",
   "execution_count": null,
   "metadata": {},
   "outputs": [],
   "source": [
    "\n",
    "\n"
   ]
  },
  {
   "cell_type": "code",
   "execution_count": 140,
   "metadata": {},
   "outputs": [],
   "source": []
  }
 ],
 "metadata": {
  "kernelspec": {
   "display_name": "Python 3",
   "language": "python",
   "name": "python3"
  },
  "language_info": {
   "codemirror_mode": {
    "name": "ipython",
    "version": 3
   },
   "file_extension": ".py",
   "mimetype": "text/x-python",
   "name": "python",
   "nbconvert_exporter": "python",
   "pygments_lexer": "ipython3",
   "version": "3.8.6"
  }
 },
 "nbformat": 4,
 "nbformat_minor": 4
}
